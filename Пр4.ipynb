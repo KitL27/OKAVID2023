{
  "nbformat": 4,
  "nbformat_minor": 0,
  "metadata": {
    "colab": {
      "provenance": []
    },
    "kernelspec": {
      "name": "python3",
      "display_name": "Python 3"
    },
    "language_info": {
      "name": "python"
    }
  },
  "cells": [
    {
      "cell_type": "markdown",
      "source": [
        "Лейбович Екатерина Евгеньевна\n",
        "\n",
        "БСВВ-22.01\n",
        "\n",
        "Задание 4. Импорт, преобразование и экспорт данных средствами Pandas"
      ],
      "metadata": {
        "id": "JbJQG4XR4fwN"
      }
    },
    {
      "cell_type": "markdown",
      "source": [
        "#Описание задачи\n",
        "\n"
      ],
      "metadata": {
        "id": "i_vj7DvI4jOx"
      }
    },
    {
      "cell_type": "markdown",
      "source": [
        "В ходе выполнения данного задания необходимо импортировать файл данных из внешнего источника, сформировать новый DataFrame согласно задания, экспортировать результат в файл и предоставить файл в качестве ответа.\n",
        "Для сохранения и предоставления доступа к итоговому файлу с данными необходимо создать учетную запись на GitHub и разместить файл в публичный репозиторий.\n"
      ],
      "metadata": {
        "id": "X_1zaVYy5NoK"
      }
    },
    {
      "cell_type": "code",
      "source": [
        "import numpy as np\n",
        "import matplotlib.pyplot as plt\n",
        "import pandas as pd"
      ],
      "metadata": {
        "id": "ufHI5DD95bS3"
      },
      "execution_count": null,
      "outputs": []
    },
    {
      "cell_type": "code",
      "source": [
        "file_1 = pd.read_csv(\"https://raw.githubusercontent.com/EvgeniiSopovGitHub/datasets_uni/main/okaivd/lab_4_raw_data.csv\")\n",
        "file_1.head()"
      ],
      "metadata": {
        "colab": {
          "base_uri": "https://localhost:8080/",
          "height": 206
        },
        "id": "8S7CZUZd58pO",
        "outputId": "4b5933a0-9d4e-4a6d-8371-35ceabeaf358"
      },
      "execution_count": null,
      "outputs": [
        {
          "output_type": "execute_result",
          "data": {
            "text/plain": [
              "  date;unit_01;unit_02;unit_03;unit_04;unit_05;unit_06;unit_07;unit_08;unit_09;unit_10\n",
              "0  2022-01-01;;35.356841405309794;29.501119790340...                                  \n",
              "1  2022-01-02;37.1124746430136;49.94437515695568;...                                  \n",
              "2  2022-01-03;;28.340224471077487;48.018449465161...                                  \n",
              "3  2022-01-04;50.0;43.55556980883428;36.278831448...                                  \n",
              "4  2022-01-05;42.434209274063136;28.7346745700960...                                  "
            ],
            "text/html": [
              "\n",
              "  <div id=\"df-9a3ad778-3bfa-4949-8f23-c71dabe16d27\">\n",
              "    <div class=\"colab-df-container\">\n",
              "      <div>\n",
              "<style scoped>\n",
              "    .dataframe tbody tr th:only-of-type {\n",
              "        vertical-align: middle;\n",
              "    }\n",
              "\n",
              "    .dataframe tbody tr th {\n",
              "        vertical-align: top;\n",
              "    }\n",
              "\n",
              "    .dataframe thead th {\n",
              "        text-align: right;\n",
              "    }\n",
              "</style>\n",
              "<table border=\"1\" class=\"dataframe\">\n",
              "  <thead>\n",
              "    <tr style=\"text-align: right;\">\n",
              "      <th></th>\n",
              "      <th>date;unit_01;unit_02;unit_03;unit_04;unit_05;unit_06;unit_07;unit_08;unit_09;unit_10</th>\n",
              "    </tr>\n",
              "  </thead>\n",
              "  <tbody>\n",
              "    <tr>\n",
              "      <th>0</th>\n",
              "      <td>2022-01-01;;35.356841405309794;29.501119790340...</td>\n",
              "    </tr>\n",
              "    <tr>\n",
              "      <th>1</th>\n",
              "      <td>2022-01-02;37.1124746430136;49.94437515695568;...</td>\n",
              "    </tr>\n",
              "    <tr>\n",
              "      <th>2</th>\n",
              "      <td>2022-01-03;;28.340224471077487;48.018449465161...</td>\n",
              "    </tr>\n",
              "    <tr>\n",
              "      <th>3</th>\n",
              "      <td>2022-01-04;50.0;43.55556980883428;36.278831448...</td>\n",
              "    </tr>\n",
              "    <tr>\n",
              "      <th>4</th>\n",
              "      <td>2022-01-05;42.434209274063136;28.7346745700960...</td>\n",
              "    </tr>\n",
              "  </tbody>\n",
              "</table>\n",
              "</div>\n",
              "      <button class=\"colab-df-convert\" onclick=\"convertToInteractive('df-9a3ad778-3bfa-4949-8f23-c71dabe16d27')\"\n",
              "              title=\"Convert this dataframe to an interactive table.\"\n",
              "              style=\"display:none;\">\n",
              "        \n",
              "  <svg xmlns=\"http://www.w3.org/2000/svg\" height=\"24px\"viewBox=\"0 0 24 24\"\n",
              "       width=\"24px\">\n",
              "    <path d=\"M0 0h24v24H0V0z\" fill=\"none\"/>\n",
              "    <path d=\"M18.56 5.44l.94 2.06.94-2.06 2.06-.94-2.06-.94-.94-2.06-.94 2.06-2.06.94zm-11 1L8.5 8.5l.94-2.06 2.06-.94-2.06-.94L8.5 2.5l-.94 2.06-2.06.94zm10 10l.94 2.06.94-2.06 2.06-.94-2.06-.94-.94-2.06-.94 2.06-2.06.94z\"/><path d=\"M17.41 7.96l-1.37-1.37c-.4-.4-.92-.59-1.43-.59-.52 0-1.04.2-1.43.59L10.3 9.45l-7.72 7.72c-.78.78-.78 2.05 0 2.83L4 21.41c.39.39.9.59 1.41.59.51 0 1.02-.2 1.41-.59l7.78-7.78 2.81-2.81c.8-.78.8-2.07 0-2.86zM5.41 20L4 18.59l7.72-7.72 1.47 1.35L5.41 20z\"/>\n",
              "  </svg>\n",
              "      </button>\n",
              "      \n",
              "  <style>\n",
              "    .colab-df-container {\n",
              "      display:flex;\n",
              "      flex-wrap:wrap;\n",
              "      gap: 12px;\n",
              "    }\n",
              "\n",
              "    .colab-df-convert {\n",
              "      background-color: #E8F0FE;\n",
              "      border: none;\n",
              "      border-radius: 50%;\n",
              "      cursor: pointer;\n",
              "      display: none;\n",
              "      fill: #1967D2;\n",
              "      height: 32px;\n",
              "      padding: 0 0 0 0;\n",
              "      width: 32px;\n",
              "    }\n",
              "\n",
              "    .colab-df-convert:hover {\n",
              "      background-color: #E2EBFA;\n",
              "      box-shadow: 0px 1px 2px rgba(60, 64, 67, 0.3), 0px 1px 3px 1px rgba(60, 64, 67, 0.15);\n",
              "      fill: #174EA6;\n",
              "    }\n",
              "\n",
              "    [theme=dark] .colab-df-convert {\n",
              "      background-color: #3B4455;\n",
              "      fill: #D2E3FC;\n",
              "    }\n",
              "\n",
              "    [theme=dark] .colab-df-convert:hover {\n",
              "      background-color: #434B5C;\n",
              "      box-shadow: 0px 1px 3px 1px rgba(0, 0, 0, 0.15);\n",
              "      filter: drop-shadow(0px 1px 2px rgba(0, 0, 0, 0.3));\n",
              "      fill: #FFFFFF;\n",
              "    }\n",
              "  </style>\n",
              "\n",
              "      <script>\n",
              "        const buttonEl =\n",
              "          document.querySelector('#df-9a3ad778-3bfa-4949-8f23-c71dabe16d27 button.colab-df-convert');\n",
              "        buttonEl.style.display =\n",
              "          google.colab.kernel.accessAllowed ? 'block' : 'none';\n",
              "\n",
              "        async function convertToInteractive(key) {\n",
              "          const element = document.querySelector('#df-9a3ad778-3bfa-4949-8f23-c71dabe16d27');\n",
              "          const dataTable =\n",
              "            await google.colab.kernel.invokeFunction('convertToInteractive',\n",
              "                                                     [key], {});\n",
              "          if (!dataTable) return;\n",
              "\n",
              "          const docLinkHtml = 'Like what you see? Visit the ' +\n",
              "            '<a target=\"_blank\" href=https://colab.research.google.com/notebooks/data_table.ipynb>data table notebook</a>'\n",
              "            + ' to learn more about interactive tables.';\n",
              "          element.innerHTML = '';\n",
              "          dataTable['output_type'] = 'display_data';\n",
              "          await google.colab.output.renderOutput(dataTable, element);\n",
              "          const docLink = document.createElement('div');\n",
              "          docLink.innerHTML = docLinkHtml;\n",
              "          element.appendChild(docLink);\n",
              "        }\n",
              "      </script>\n",
              "    </div>\n",
              "  </div>\n",
              "  "
            ]
          },
          "metadata": {},
          "execution_count": 94
        }
      ]
    },
    {
      "cell_type": "code",
      "source": [
        "file_1.info"
      ],
      "metadata": {
        "colab": {
          "base_uri": "https://localhost:8080/"
        },
        "id": "YDmhnYkD6L3d",
        "outputId": "93636917-2f46-474a-99a5-26e044bdc0c9"
      },
      "execution_count": null,
      "outputs": [
        {
          "output_type": "execute_result",
          "data": {
            "text/plain": [
              "<bound method DataFrame.info of            date    unit_01    unit_02    unit_03    unit_04    unit_05  \\\n",
              "0    2022-01-01        NaN  35.356841  29.501120  49.620615  33.370093   \n",
              "1    2022-01-02  37.112475  49.944375  42.270097  51.557284        NaN   \n",
              "2    2022-01-03        NaN  28.340224  48.018449        NaN  39.209601   \n",
              "3    2022-01-04  50.000000  43.555570  36.278831  43.076333        NaN   \n",
              "4    2022-01-05  42.434209  28.734675  35.919586  49.739334  37.639153   \n",
              "..          ...        ...        ...        ...        ...        ...   \n",
              "360  2022-12-27  40.821794        NaN  35.352931  43.471269  40.233358   \n",
              "361  2022-12-28  36.922681  42.956541  37.757330  39.423959        NaN   \n",
              "362  2022-12-29  39.835742  30.958749  41.143042  46.283822        NaN   \n",
              "363  2022-12-30  34.484518  36.817061  26.891212  40.649628  34.485905   \n",
              "364  2022-12-31  28.044285  38.053724  50.317334  46.277700  44.742887   \n",
              "\n",
              "       unit_06    unit_07    unit_08    unit_09    unit_10  \n",
              "0    38.610154  34.559279  53.436849  41.238733  58.494774  \n",
              "1    37.078793  22.265877  45.772941  75.733055  53.659106  \n",
              "2    46.690520  25.886239  31.383527  78.607074        NaN  \n",
              "3    35.764313  59.110809        NaN  39.244188  66.407508  \n",
              "4          NaN  15.093752  50.664648  48.536941  65.719188  \n",
              "..         ...        ...        ...        ...        ...  \n",
              "360        NaN  25.770243  55.692111        NaN  68.647082  \n",
              "361  42.500627  47.705860  30.529000  46.644630  60.888610  \n",
              "362  35.878442  64.125878  52.910647  76.109909  65.518039  \n",
              "363  39.078600  60.788903  48.904611  66.273623  67.848695  \n",
              "364  35.568732  69.927246  56.475326  73.268611  63.756814  \n",
              "\n",
              "[365 rows x 11 columns]>"
            ]
          },
          "metadata": {},
          "execution_count": 101
        }
      ]
    },
    {
      "cell_type": "code",
      "source": [
        "file_1 = pd.read_csv(\"https://raw.githubusercontent.com/EvgeniiSopovGitHub/datasets_uni/main/okaivd/lab_4_raw_data.csv\",\n",
        "                     sep=\";\")\n",
        "file_1.head(3)"
      ],
      "metadata": {
        "colab": {
          "base_uri": "https://localhost:8080/",
          "height": 143
        },
        "id": "TUIu0qc-_E3D",
        "outputId": "a6a570f0-4be3-4a9b-afcf-f22742ecd15b"
      },
      "execution_count": null,
      "outputs": [
        {
          "output_type": "execute_result",
          "data": {
            "text/plain": [
              "         date    unit_01    unit_02    unit_03    unit_04    unit_05  \\\n",
              "0  2022-01-01        NaN  35.356841  29.501120  49.620615  33.370093   \n",
              "1  2022-01-02  37.112475  49.944375  42.270097  51.557284        NaN   \n",
              "2  2022-01-03        NaN  28.340224  48.018449        NaN  39.209601   \n",
              "\n",
              "     unit_06    unit_07    unit_08    unit_09    unit_10  \n",
              "0  38.610154  34.559279  53.436849  41.238733  58.494774  \n",
              "1  37.078793  22.265877  45.772941  75.733055  53.659106  \n",
              "2  46.690520  25.886239  31.383527  78.607074        NaN  "
            ],
            "text/html": [
              "\n",
              "  <div id=\"df-8ade66a7-e129-4749-8aa6-2e47018ada86\">\n",
              "    <div class=\"colab-df-container\">\n",
              "      <div>\n",
              "<style scoped>\n",
              "    .dataframe tbody tr th:only-of-type {\n",
              "        vertical-align: middle;\n",
              "    }\n",
              "\n",
              "    .dataframe tbody tr th {\n",
              "        vertical-align: top;\n",
              "    }\n",
              "\n",
              "    .dataframe thead th {\n",
              "        text-align: right;\n",
              "    }\n",
              "</style>\n",
              "<table border=\"1\" class=\"dataframe\">\n",
              "  <thead>\n",
              "    <tr style=\"text-align: right;\">\n",
              "      <th></th>\n",
              "      <th>date</th>\n",
              "      <th>unit_01</th>\n",
              "      <th>unit_02</th>\n",
              "      <th>unit_03</th>\n",
              "      <th>unit_04</th>\n",
              "      <th>unit_05</th>\n",
              "      <th>unit_06</th>\n",
              "      <th>unit_07</th>\n",
              "      <th>unit_08</th>\n",
              "      <th>unit_09</th>\n",
              "      <th>unit_10</th>\n",
              "    </tr>\n",
              "  </thead>\n",
              "  <tbody>\n",
              "    <tr>\n",
              "      <th>0</th>\n",
              "      <td>2022-01-01</td>\n",
              "      <td>NaN</td>\n",
              "      <td>35.356841</td>\n",
              "      <td>29.501120</td>\n",
              "      <td>49.620615</td>\n",
              "      <td>33.370093</td>\n",
              "      <td>38.610154</td>\n",
              "      <td>34.559279</td>\n",
              "      <td>53.436849</td>\n",
              "      <td>41.238733</td>\n",
              "      <td>58.494774</td>\n",
              "    </tr>\n",
              "    <tr>\n",
              "      <th>1</th>\n",
              "      <td>2022-01-02</td>\n",
              "      <td>37.112475</td>\n",
              "      <td>49.944375</td>\n",
              "      <td>42.270097</td>\n",
              "      <td>51.557284</td>\n",
              "      <td>NaN</td>\n",
              "      <td>37.078793</td>\n",
              "      <td>22.265877</td>\n",
              "      <td>45.772941</td>\n",
              "      <td>75.733055</td>\n",
              "      <td>53.659106</td>\n",
              "    </tr>\n",
              "    <tr>\n",
              "      <th>2</th>\n",
              "      <td>2022-01-03</td>\n",
              "      <td>NaN</td>\n",
              "      <td>28.340224</td>\n",
              "      <td>48.018449</td>\n",
              "      <td>NaN</td>\n",
              "      <td>39.209601</td>\n",
              "      <td>46.690520</td>\n",
              "      <td>25.886239</td>\n",
              "      <td>31.383527</td>\n",
              "      <td>78.607074</td>\n",
              "      <td>NaN</td>\n",
              "    </tr>\n",
              "  </tbody>\n",
              "</table>\n",
              "</div>\n",
              "      <button class=\"colab-df-convert\" onclick=\"convertToInteractive('df-8ade66a7-e129-4749-8aa6-2e47018ada86')\"\n",
              "              title=\"Convert this dataframe to an interactive table.\"\n",
              "              style=\"display:none;\">\n",
              "        \n",
              "  <svg xmlns=\"http://www.w3.org/2000/svg\" height=\"24px\"viewBox=\"0 0 24 24\"\n",
              "       width=\"24px\">\n",
              "    <path d=\"M0 0h24v24H0V0z\" fill=\"none\"/>\n",
              "    <path d=\"M18.56 5.44l.94 2.06.94-2.06 2.06-.94-2.06-.94-.94-2.06-.94 2.06-2.06.94zm-11 1L8.5 8.5l.94-2.06 2.06-.94-2.06-.94L8.5 2.5l-.94 2.06-2.06.94zm10 10l.94 2.06.94-2.06 2.06-.94-2.06-.94-.94-2.06-.94 2.06-2.06.94z\"/><path d=\"M17.41 7.96l-1.37-1.37c-.4-.4-.92-.59-1.43-.59-.52 0-1.04.2-1.43.59L10.3 9.45l-7.72 7.72c-.78.78-.78 2.05 0 2.83L4 21.41c.39.39.9.59 1.41.59.51 0 1.02-.2 1.41-.59l7.78-7.78 2.81-2.81c.8-.78.8-2.07 0-2.86zM5.41 20L4 18.59l7.72-7.72 1.47 1.35L5.41 20z\"/>\n",
              "  </svg>\n",
              "      </button>\n",
              "      \n",
              "  <style>\n",
              "    .colab-df-container {\n",
              "      display:flex;\n",
              "      flex-wrap:wrap;\n",
              "      gap: 12px;\n",
              "    }\n",
              "\n",
              "    .colab-df-convert {\n",
              "      background-color: #E8F0FE;\n",
              "      border: none;\n",
              "      border-radius: 50%;\n",
              "      cursor: pointer;\n",
              "      display: none;\n",
              "      fill: #1967D2;\n",
              "      height: 32px;\n",
              "      padding: 0 0 0 0;\n",
              "      width: 32px;\n",
              "    }\n",
              "\n",
              "    .colab-df-convert:hover {\n",
              "      background-color: #E2EBFA;\n",
              "      box-shadow: 0px 1px 2px rgba(60, 64, 67, 0.3), 0px 1px 3px 1px rgba(60, 64, 67, 0.15);\n",
              "      fill: #174EA6;\n",
              "    }\n",
              "\n",
              "    [theme=dark] .colab-df-convert {\n",
              "      background-color: #3B4455;\n",
              "      fill: #D2E3FC;\n",
              "    }\n",
              "\n",
              "    [theme=dark] .colab-df-convert:hover {\n",
              "      background-color: #434B5C;\n",
              "      box-shadow: 0px 1px 3px 1px rgba(0, 0, 0, 0.15);\n",
              "      filter: drop-shadow(0px 1px 2px rgba(0, 0, 0, 0.3));\n",
              "      fill: #FFFFFF;\n",
              "    }\n",
              "  </style>\n",
              "\n",
              "      <script>\n",
              "        const buttonEl =\n",
              "          document.querySelector('#df-8ade66a7-e129-4749-8aa6-2e47018ada86 button.colab-df-convert');\n",
              "        buttonEl.style.display =\n",
              "          google.colab.kernel.accessAllowed ? 'block' : 'none';\n",
              "\n",
              "        async function convertToInteractive(key) {\n",
              "          const element = document.querySelector('#df-8ade66a7-e129-4749-8aa6-2e47018ada86');\n",
              "          const dataTable =\n",
              "            await google.colab.kernel.invokeFunction('convertToInteractive',\n",
              "                                                     [key], {});\n",
              "          if (!dataTable) return;\n",
              "\n",
              "          const docLinkHtml = 'Like what you see? Visit the ' +\n",
              "            '<a target=\"_blank\" href=https://colab.research.google.com/notebooks/data_table.ipynb>data table notebook</a>'\n",
              "            + ' to learn more about interactive tables.';\n",
              "          element.innerHTML = '';\n",
              "          dataTable['output_type'] = 'display_data';\n",
              "          await google.colab.output.renderOutput(dataTable, element);\n",
              "          const docLink = document.createElement('div');\n",
              "          docLink.innerHTML = docLinkHtml;\n",
              "          element.appendChild(docLink);\n",
              "        }\n",
              "      </script>\n",
              "    </div>\n",
              "  </div>\n",
              "  "
            ]
          },
          "metadata": {},
          "execution_count": 104
        }
      ]
    },
    {
      "cell_type": "code",
      "source": [
        "file_1 = file_1.fillna(35)"
      ],
      "metadata": {
        "id": "X67LEmmvEJ-I"
      },
      "execution_count": null,
      "outputs": []
    },
    {
      "cell_type": "code",
      "source": [
        "file_1.info"
      ],
      "metadata": {
        "colab": {
          "base_uri": "https://localhost:8080/"
        },
        "id": "p6Sw2Y8MFDHY",
        "outputId": "d142a4bc-4346-4d2f-9205-a6a897fbee5e"
      },
      "execution_count": null,
      "outputs": [
        {
          "output_type": "execute_result",
          "data": {
            "text/plain": [
              "<bound method DataFrame.info of            date    unit_01    unit_02    unit_03    unit_04    unit_05  \\\n",
              "0    2022-01-01  35.000000  35.356841  29.501120  49.620615  33.370093   \n",
              "1    2022-01-02  37.112475  49.944375  42.270097  51.557284  35.000000   \n",
              "2    2022-01-03  35.000000  28.340224  48.018449  35.000000  39.209601   \n",
              "3    2022-01-04  50.000000  43.555570  36.278831  43.076333  35.000000   \n",
              "4    2022-01-05  42.434209  28.734675  35.919586  49.739334  37.639153   \n",
              "..          ...        ...        ...        ...        ...        ...   \n",
              "360  2022-12-27  40.821794  35.000000  35.352931  43.471269  40.233358   \n",
              "361  2022-12-28  36.922681  42.956541  37.757330  39.423959  35.000000   \n",
              "362  2022-12-29  39.835742  30.958749  41.143042  46.283822  35.000000   \n",
              "363  2022-12-30  34.484518  36.817061  26.891212  40.649628  34.485905   \n",
              "364  2022-12-31  28.044285  38.053724  50.317334  46.277700  44.742887   \n",
              "\n",
              "       unit_06    unit_07    unit_08    unit_09    unit_10  \n",
              "0    38.610154  34.559279  53.436849  41.238733  58.494774  \n",
              "1    37.078793  22.265877  45.772941  75.733055  53.659106  \n",
              "2    46.690520  25.886239  31.383527  78.607074  35.000000  \n",
              "3    35.764313  59.110809  35.000000  39.244188  66.407508  \n",
              "4    35.000000  15.093752  50.664648  48.536941  65.719188  \n",
              "..         ...        ...        ...        ...        ...  \n",
              "360  35.000000  25.770243  55.692111  35.000000  68.647082  \n",
              "361  42.500627  47.705860  30.529000  46.644630  60.888610  \n",
              "362  35.878442  64.125878  52.910647  76.109909  65.518039  \n",
              "363  39.078600  60.788903  48.904611  66.273623  67.848695  \n",
              "364  35.568732  69.927246  56.475326  73.268611  63.756814  \n",
              "\n",
              "[365 rows x 11 columns]>"
            ]
          },
          "metadata": {},
          "execution_count": 110
        }
      ]
    },
    {
      "cell_type": "code",
      "source": [
        "meanMedian = file_1.mean(axis=1)\n",
        "print('\\nMean\\n------')\n",
        "print(meanMedian)"
      ],
      "metadata": {
        "colab": {
          "base_uri": "https://localhost:8080/"
        },
        "id": "wYBBVi-qKsVq",
        "outputId": "7c7b9811-8103-497d-aea2-49de15610982"
      },
      "execution_count": null,
      "outputs": [
        {
          "output_type": "stream",
          "name": "stdout",
          "text": [
            "\n",
            "Mean\n",
            "------\n",
            "0      40.918846\n",
            "1      45.039400\n",
            "2      40.313564\n",
            "3      44.343755\n",
            "4      40.948149\n",
            "         ...    \n",
            "360    41.498879\n",
            "361    42.032924\n",
            "362    48.776427\n",
            "363    45.622275\n",
            "364    50.643266\n",
            "Length: 365, dtype: float64\n"
          ]
        },
        {
          "output_type": "stream",
          "name": "stderr",
          "text": [
            "<ipython-input-113-a205ecc1cfdc>:1: FutureWarning: Dropping of nuisance columns in DataFrame reductions (with 'numeric_only=None') is deprecated; in a future version this will raise TypeError.  Select only valid columns before calling the reduction.\n",
            "  meanMedian = file_1.mean(axis=1)\n"
          ]
        }
      ]
    },
    {
      "cell_type": "code",
      "source": [
        "maximus = file_1.max(axis = 1)\n",
        "print (maximus)"
      ],
      "metadata": {
        "colab": {
          "base_uri": "https://localhost:8080/"
        },
        "id": "5rdMUNkpOtWi",
        "outputId": "d373800c-26c1-4291-8fe8-82d6378790a7"
      },
      "execution_count": null,
      "outputs": [
        {
          "output_type": "stream",
          "name": "stdout",
          "text": [
            "0      58.494774\n",
            "1      75.733055\n",
            "2      78.607074\n",
            "3      66.407508\n",
            "4      65.719188\n",
            "         ...    \n",
            "360    68.647082\n",
            "361    60.888610\n",
            "362    76.109909\n",
            "363    67.848695\n",
            "364    73.268611\n",
            "Length: 365, dtype: float64\n"
          ]
        },
        {
          "output_type": "stream",
          "name": "stderr",
          "text": [
            "<ipython-input-120-cee8df7f33e4>:1: FutureWarning: Dropping of nuisance columns in DataFrame reductions (with 'numeric_only=None') is deprecated; in a future version this will raise TypeError.  Select only valid columns before calling the reduction.\n",
            "  maximus = file_1.max(axis = 1)\n"
          ]
        }
      ]
    },
    {
      "cell_type": "code",
      "source": [
        "np.minimum = file_1.min(axis = 1)\n",
        "print (np.minimum)"
      ],
      "metadata": {
        "colab": {
          "base_uri": "https://localhost:8080/"
        },
        "id": "ZqSjAu6-PEtl",
        "outputId": "b9a53e3d-7132-4648-ee2e-bccf97bb6f9e"
      },
      "execution_count": null,
      "outputs": [
        {
          "output_type": "stream",
          "name": "stdout",
          "text": [
            "0      29.501120\n",
            "1      22.265877\n",
            "2      25.886239\n",
            "3      35.000000\n",
            "4      15.093752\n",
            "         ...    \n",
            "360    25.770243\n",
            "361    30.529000\n",
            "362    30.958749\n",
            "363    26.891212\n",
            "364    28.044285\n",
            "Length: 365, dtype: float64\n"
          ]
        },
        {
          "output_type": "stream",
          "name": "stderr",
          "text": [
            "<ipython-input-118-bf5f7ec503a4>:1: FutureWarning: Dropping of nuisance columns in DataFrame reductions (with 'numeric_only=None') is deprecated; in a future version this will raise TypeError.  Select only valid columns before calling the reduction.\n",
            "  np.minimum = file_1.min(axis = 1)\n"
          ]
        }
      ]
    }
  ]
}